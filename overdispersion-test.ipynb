{
 "cells": [
  {
   "cell_type": "code",
   "execution_count": 2,
   "metadata": {},
   "outputs": [],
   "source": [
    "# Cameron and Trivedi (1990) Journal of Econometrics\n",
    "import numpy\n",
    "import pandas"
   ]
  },
  {
   "cell_type": "code",
   "execution_count": 2,
   "metadata": {},
   "outputs": [],
   "source": [
    "def overdispersion(X,m):\n",
    "  muhat = reg.predict(X).to_numpy()\n",
    "  ystar = ((df[m].to_numpy() - muhat)**2 - df[m].to_numpy())/muhat\n",
    "  aux = sm.OLS(ystar,muhat).fit()\n",
    "  alpha = aux.params[0]\n",
    "  print(alpha)\n",
    "  palpha = aux.pvalues[0]\n",
    "  return(alpha,palpha)"
   ]
  },
  {
   "cell_type": "code",
   "execution_count": null,
   "metadata": {},
   "outputs": [],
   "source": []
  },
  {
   "cell_type": "code",
   "execution_count": null,
   "metadata": {},
   "outputs": [],
   "source": []
  }
 ],
 "metadata": {
  "kernelspec": {
   "display_name": "Python 3",
   "language": "python",
   "name": "python3"
  },
  "language_info": {
   "codemirror_mode": {
    "name": "ipython",
    "version": 3
   },
   "file_extension": ".py",
   "mimetype": "text/x-python",
   "name": "python",
   "nbconvert_exporter": "python",
   "pygments_lexer": "ipython3",
   "version": "3.8.5"
  }
 },
 "nbformat": 4,
 "nbformat_minor": 4
}
