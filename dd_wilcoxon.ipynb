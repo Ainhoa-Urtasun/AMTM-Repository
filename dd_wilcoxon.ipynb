{
 "cells": [
  {
   "cell_type": "markdown",
   "metadata": {},
   "source": [
    "## Dutta and Datta 2016"
   ]
  },
  {
   "cell_type": "code",
   "execution_count": 229,
   "metadata": {},
   "outputs": [],
   "source": [
    "import pandas\n",
    "import numpy\n",
    "from statistics import mean\n",
    "from scipy import stats"
   ]
  },
  {
   "cell_type": "markdown",
   "metadata": {},
   "source": [
    "### Function"
   ]
  },
  {
   "cell_type": "code",
   "execution_count": 1,
   "metadata": {},
   "outputs": [],
   "source": [
    "def dd_wilcoxon(clusters,x,groups):\n",
    "  data = pandas.DataFrame({'clusters':clusters,'x':x,'groups':groups})\n",
    "  n = data.shape[0]\n",
    "  m = len(set(clusters))\n",
    "  print(m)\n",
    "  dw = data.loc[data.groups==1].reset_index(drop=True)\n",
    "  nv = dw.groupby('clusters')['groups'].transform('sum').tolist()\n",
    "  dw = dw[['clusters','x']].values.T.tolist()\n",
    "  dw[0] = list(map(int,dw[0]))\n",
    "  M1 = []\n",
    "  for cluster,value in zip(dw[0],dw[1]):\n",
    "    ds1 = data.loc[data.groups==1,['clusters','x']].values.T.tolist()\n",
    "    vs1 = [1 if z<=value else 0 for z in ds1[1]]\n",
    "    vs1 = list(zip(ds1[0],vs1))\n",
    "    sl1 = [mean([v[1] for v in vs1 if v[0] is t]) for t in set([t[0] for t in vs1])]\n",
    "    ds0 = data.loc[data.groups==0,['clusters','x']].values.T.tolist()\n",
    "    vs0 = [1 if z<=value else 0 for z in ds0[1]]\n",
    "    vs0 = list(zip(ds0[0],vs0))\n",
    "    sl0 = [mean([v[1] for v in vs0 if v[0] is t]) for t in set([t[0] for t in vs0])]\n",
    "    mm = [(u+v)/2 for u,v in zip(sl1,sl0)]\n",
    "    mm[cluster] = 0\n",
    "    M1.append(mm)\n",
    "  M1 = numpy.array(M1).T / nv\n",
    "  sFs1 = M1.sum()\n",
    "  vf1 = []\n",
    "  for cluster in list(set(clusters)):\n",
    "    idx = [index for index in range(len(dw[0])) if dw[0][index] == cluster] \n",
    "    vf = numpy.delete(M1,idx,axis=1)\n",
    "    vf = numpy.delete(vf,cluster,axis=0)\n",
    "    vf = vf.sum()\n",
    "    vf1.append(vf)\n",
    "  M2 = []\n",
    "  for cluster,value in zip(dw[0],dw[1]):\n",
    "    ds1 = data.loc[data.groups==1,['clusters','x']].values.T.tolist()\n",
    "    vs1 = [1 if z<value else 0 for z in ds1[1]]\n",
    "    vs1 = list(zip(ds1[0],vs1))\n",
    "    sl1 = [mean([v[1] for v in vs1 if v[0] is t]) for t in set([t[0] for t in vs1])]\n",
    "    ds0 = data.loc[data.groups==0,['clusters','x']].values.T.tolist()\n",
    "    vs0 = [1 if z<value else 0 for z in ds0[1]]\n",
    "    vs0 = list(zip(ds0[0],vs0))\n",
    "    sl0 = [mean([v[1] for v in vs0 if v[0] is t]) for t in set([t[0] for t in vs0])]\n",
    "    mm = [(u+v)/2 for u,v in zip(sl1,sl0)]\n",
    "    mm[cluster] = 0\n",
    "    M2.append(mm)\n",
    "  M2 = numpy.array(M2).T / nv\n",
    "  sFs2 = M2.sum()\n",
    "  vf2 = []\n",
    "  for cluster in list(set(clusters)):\n",
    "    idx = [index for index in range(len(dw[0])) if dw[0][index] == cluster] \n",
    "    vf = numpy.delete(M2,idx,axis=1)\n",
    "    vf = numpy.delete(vf,cluster,axis=0)\n",
    "    vf = vf.sum()\n",
    "    vf2.append(vf)\n",
    "\n",
    "  v1 = ((sFs1+sFs2)/4) + (m/2)\n",
    "  vd = ((numpy.array(vf1)+numpy.array(vf2))/4) + (m-1)/2\n",
    "\n",
    "  T = v1             \n",
    "  ET = 0.25*m*(m+1)\n",
    "  test = v1 - vd\n",
    "  vtest = numpy.var(test,ddof=1)\n",
    "  vhat = vtest*numpy.power(m,2)/(m-1)\n",
    "  Z = (T-ET)/numpy.sqrt(vhat)\n",
    "  pvalue = stats.norm.sf(abs(Z))\n",
    "  return(Z,pvalue)\n"
   ]
  },
  {
   "cell_type": "code",
   "execution_count": null,
   "metadata": {},
   "outputs": [],
   "source": []
  }
 ],
 "metadata": {
  "kernelspec": {
   "display_name": "Python 3",
   "language": "python",
   "name": "python3"
  },
  "language_info": {
   "codemirror_mode": {
    "name": "ipython",
    "version": 3
   },
   "file_extension": ".py",
   "mimetype": "text/x-python",
   "name": "python",
   "nbconvert_exporter": "python",
   "pygments_lexer": "ipython3",
   "version": "3.8.5"
  }
 },
 "nbformat": 4,
 "nbformat_minor": 4
}
