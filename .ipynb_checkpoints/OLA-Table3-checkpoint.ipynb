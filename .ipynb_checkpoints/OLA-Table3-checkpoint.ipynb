{
 "cells": [
  {
   "cell_type": "code",
   "execution_count": 1,
   "metadata": {},
   "outputs": [],
   "source": [
    "import pandas\n",
    "import numpy"
   ]
  },
  {
   "cell_type": "markdown",
   "metadata": {},
   "source": [
    "## Hybrid sample"
   ]
  },
  {
   "cell_type": "code",
   "execution_count": 2,
   "metadata": {},
   "outputs": [
    {
     "name": "stdout",
     "output_type": "stream",
     "text": [
      "3091485 job postings in full sample\n",
      "212822 job postings in hybrid sample\n"
     ]
    }
   ],
   "source": [
    "filepath = 'D:/BG/Data/Processing/4_data.txt'\n",
    "data = pandas.read_csv(filepath, sep='\\t')\n",
    "print(data.shape[0],'job postings in full sample')\n",
    "hybrid = data[data.plant_5==0]\n",
    "print(hybrid.shape[0],'job postings in hybrid sample')"
   ]
  },
  {
   "cell_type": "markdown",
   "metadata": {},
   "source": [
    "## Measures"
   ]
  },
  {
   "cell_type": "code",
   "execution_count": 22,
   "metadata": {},
   "outputs": [],
   "source": [
    "df = hybrid.copy()\n",
    "df.reset_index(inplace=True,drop=True)\n",
    "measures = ['Engineering Skills','Operations Skills','Support Skills','General Skills','Job Complexity']\n",
    "df['Engineering Skills'] = df['research']+df['design']+df['materials']+df['development']\n",
    "df['Operations Skills'] = df['tools']+df['inventory']+df['production']\n",
    "df['Support Skills'] = df['business']+df['finance']+df['management']+df['analysis']+df['customer']+df['office']+df['software']\n",
    "df['General Skills'] = df['cognitive']+df['social']\n",
    "df['Job Complexity'] = df['complexity']"
   ]
  },
  {
   "cell_type": "markdown",
   "metadata": {},
   "source": [
    "## Zeroes"
   ]
  },
  {
   "cell_type": "code",
   "execution_count": 23,
   "metadata": {},
   "outputs": [
    {
     "data": {
      "text/html": [
       "<div>\n",
       "<style scoped>\n",
       "    .dataframe tbody tr th:only-of-type {\n",
       "        vertical-align: middle;\n",
       "    }\n",
       "\n",
       "    .dataframe tbody tr th {\n",
       "        vertical-align: top;\n",
       "    }\n",
       "\n",
       "    .dataframe thead tr th {\n",
       "        text-align: left;\n",
       "    }\n",
       "</style>\n",
       "<table border=\"1\" class=\"dataframe\">\n",
       "  <thead>\n",
       "    <tr>\n",
       "      <th>occupation</th>\n",
       "      <th colspan=\"2\" halign=\"left\">Manager</th>\n",
       "      <th colspan=\"2\" halign=\"left\">Engineer</th>\n",
       "      <th colspan=\"2\" halign=\"left\">Technician</th>\n",
       "      <th colspan=\"2\" halign=\"left\">Operator</th>\n",
       "    </tr>\n",
       "    <tr>\n",
       "      <th>TECH</th>\n",
       "      <th>AM</th>\n",
       "      <th>TM</th>\n",
       "      <th>AM</th>\n",
       "      <th>TM</th>\n",
       "      <th>AM</th>\n",
       "      <th>TM</th>\n",
       "      <th>AM</th>\n",
       "      <th>TM</th>\n",
       "    </tr>\n",
       "  </thead>\n",
       "  <tbody>\n",
       "    <tr>\n",
       "      <th>Engineering Skills</th>\n",
       "      <td>49.95%</td>\n",
       "      <td>71.75%</td>\n",
       "      <td>12.29%</td>\n",
       "      <td>35.35%</td>\n",
       "      <td>41.58%</td>\n",
       "      <td>53.75%</td>\n",
       "      <td>63.98%</td>\n",
       "      <td>72.38%</td>\n",
       "    </tr>\n",
       "    <tr>\n",
       "      <th>Operations Skills</th>\n",
       "      <td>80.33%</td>\n",
       "      <td>83.63%</td>\n",
       "      <td>58.44%</td>\n",
       "      <td>82.03%</td>\n",
       "      <td>40.70%</td>\n",
       "      <td>62.59%</td>\n",
       "      <td>57.66%</td>\n",
       "      <td>48.71%</td>\n",
       "    </tr>\n",
       "    <tr>\n",
       "      <th>Support Skills</th>\n",
       "      <td>0.00%</td>\n",
       "      <td>0.04%</td>\n",
       "      <td>0.04%</td>\n",
       "      <td>0.11%</td>\n",
       "      <td>0.22%</td>\n",
       "      <td>0.09%</td>\n",
       "      <td>0.19%</td>\n",
       "      <td>0.74%</td>\n",
       "    </tr>\n",
       "    <tr>\n",
       "      <th>General Skills</th>\n",
       "      <td>8.15%</td>\n",
       "      <td>11.97%</td>\n",
       "      <td>7.73%</td>\n",
       "      <td>15.27%</td>\n",
       "      <td>20.57%</td>\n",
       "      <td>30.98%</td>\n",
       "      <td>19.54%</td>\n",
       "      <td>39.89%</td>\n",
       "    </tr>\n",
       "    <tr>\n",
       "      <th>Job Complexity</th>\n",
       "      <td>6.93%</td>\n",
       "      <td>9.23%</td>\n",
       "      <td>4.11%</td>\n",
       "      <td>9.61%</td>\n",
       "      <td>21.66%</td>\n",
       "      <td>36.03%</td>\n",
       "      <td>24.52%</td>\n",
       "      <td>50.20%</td>\n",
       "    </tr>\n",
       "  </tbody>\n",
       "</table>\n",
       "</div>"
      ],
      "text/plain": [
       "occupation         Manager         Engineer         Technician          \\\n",
       "TECH                    AM      TM       AM      TM         AM      TM   \n",
       "Engineering Skills  49.95%  71.75%   12.29%  35.35%     41.58%  53.75%   \n",
       "Operations Skills   80.33%  83.63%   58.44%  82.03%     40.70%  62.59%   \n",
       "Support Skills       0.00%   0.04%    0.04%   0.11%      0.22%   0.09%   \n",
       "General Skills       8.15%  11.97%    7.73%  15.27%     20.57%  30.98%   \n",
       "Job Complexity       6.93%   9.23%    4.11%   9.61%     21.66%  36.03%   \n",
       "\n",
       "occupation         Operator          \n",
       "TECH                     AM      TM  \n",
       "Engineering Skills   63.98%  72.38%  \n",
       "Operations Skills    57.66%  48.71%  \n",
       "Support Skills        0.19%   0.74%  \n",
       "General Skills       19.54%  39.89%  \n",
       "Job Complexity       24.52%  50.20%  "
      ]
     },
     "execution_count": 23,
     "metadata": {},
     "output_type": "execute_result"
    }
   ],
   "source": [
    "df['One'] = 1\n",
    "for m in measures:\n",
    "  df.loc[m+'_0'] = numpy.nan\n",
    "  df.loc[df[m]==0,m+'_0'] = 1\n",
    "measures = [m+'_0' for m in measures]\n",
    "a = df.groupby(['TECH','occupation'])[measures+['One']].sum()\n",
    "b = 100*a[measures].div(a.One,axis=0)\n",
    "b.columns = ['Engineering Skills','Operations Skills','Support Skills','General Skills','Job Complexity']\n",
    "b = b.T\n",
    "b = b.swaplevel(0,1,axis=1).reindex(['Manager','Engineer','Technician','Operator'],axis=1,level=0)\n",
    "b = b.applymap('{:.2f}'.format)\n",
    "b = b.applymap(lambda x: x + '%')\n",
    "b.to_excel('OLA-Table3.xlsx')\n",
    "b"
   ]
  },
  {
   "cell_type": "code",
   "execution_count": null,
   "metadata": {},
   "outputs": [],
   "source": []
  }
 ],
 "metadata": {
  "kernelspec": {
   "display_name": "Python 3",
   "language": "python",
   "name": "python3"
  },
  "language_info": {
   "codemirror_mode": {
    "name": "ipython",
    "version": 3
   },
   "file_extension": ".py",
   "mimetype": "text/x-python",
   "name": "python",
   "nbconvert_exporter": "python",
   "pygments_lexer": "ipython3",
   "version": "3.8.5"
  }
 },
 "nbformat": 4,
 "nbformat_minor": 4
}
