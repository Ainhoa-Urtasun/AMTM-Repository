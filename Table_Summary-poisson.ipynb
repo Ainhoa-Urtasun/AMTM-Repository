{
 "cells": [
  {
   "cell_type": "code",
   "execution_count": 19,
   "metadata": {},
   "outputs": [],
   "source": [
    "import pandas\n",
    "import numpy"
   ]
  },
  {
   "cell_type": "markdown",
   "metadata": {},
   "source": [
    "## Table summary"
   ]
  },
  {
   "cell_type": "code",
   "execution_count": 13,
   "metadata": {},
   "outputs": [],
   "source": [
    "def Table_Summary(R):\n",
    "  mylist = []\n",
    "  for j in range(0,len(R),1):\n",
    "     for u,w in enumerate(['Coeff','CSE','p-val']):\n",
    "       for i,v in enumerate(R[j][2].index.tolist()):\n",
    "         if w=='CSE':\n",
    "           mylist.append([R[j][0],R[j][1],v,w,'('+f'{R[j][u+2][i]:.2f}'+')'])      \n",
    "         else:\n",
    "           mylist.append([R[j][0],R[j][1],v,w,f'{R[j][u+2][i]:.2f}'])\n",
    "     mylist.append([R[j][0],R[j][1],'Pseudo R-Squared','',f'{R[j][5]:.4f}'])\n",
    "     mylist.append([R[j][0],R[j][1],'Overdispersion','',f'{R[j][6]:.2f}'])\n",
    "     mylist.append([R[j][0],R[j][1],'Overdispersion p-value','',f'{R[j][7]:.2f}'])\n",
    "     mylist.append([R[j][0],R[j][1],'Overdispersion correction','',f'{R[j][8]:.2f}'])\n",
    "  mydf = pandas.DataFrame(mylist,columns=['Model','Measures','Variables','Statistics','Values'])\n",
    "  mydf = mydf.set_index(['Model','Measures','Variables','Statistics'])\n",
    "  mydf = mydf.unstack(['Model','Measures'])\n",
    "  mydf = mydf.droplevel(0,axis=1)\n",
    "  return(mydf)"
   ]
  },
  {
   "cell_type": "code",
   "execution_count": null,
   "metadata": {},
   "outputs": [],
   "source": []
  }
 ],
 "metadata": {
  "kernelspec": {
   "display_name": "Python 3",
   "language": "python",
   "name": "python3"
  },
  "language_info": {
   "codemirror_mode": {
    "name": "ipython",
    "version": 3
   },
   "file_extension": ".py",
   "mimetype": "text/x-python",
   "name": "python",
   "nbconvert_exporter": "python",
   "pygments_lexer": "ipython3",
   "version": "3.8.5"
  }
 },
 "nbformat": 4,
 "nbformat_minor": 4
}
