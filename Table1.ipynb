{
 "cells": [
  {
   "cell_type": "code",
   "execution_count": 6,
   "metadata": {},
   "outputs": [],
   "source": [
    "import pandas\n",
    "import numpy"
   ]
  },
  {
   "cell_type": "markdown",
   "metadata": {},
   "source": [
    "## B sample"
   ]
  },
  {
   "cell_type": "code",
   "execution_count": 7,
   "metadata": {},
   "outputs": [
    {
     "name": "stdout",
     "output_type": "stream",
     "text": [
      "3091485 postings in full sample\n",
      "Manager       1229666\n",
      "Operator      1043485\n",
      "Engineer       610805\n",
      "Technician     207529\n",
      "Name: occupation, dtype: int64\n",
      "337321 plants in the full sample\n",
      "2427584 postings in B sample\n"
     ]
    }
   ],
   "source": [
    "filepath = 'D:/BG/Data/Processing/4_data.txt'\n",
    "data = pandas.read_csv(filepath, sep='\\t')\n",
    "print(data.shape[0],'postings in full sample')\n",
    "print(data.occupation.value_counts())\n",
    "print(data.plant.nunique(),'plants in the full sample')\n",
    "B = data[data.plant_5.notnull()]\n",
    "print(B.shape[0],'postings in B sample')"
   ]
  },
  {
   "cell_type": "markdown",
   "metadata": {},
   "source": [
    "## Table for pures and hybrids"
   ]
  },
  {
   "cell_type": "code",
   "execution_count": 22,
   "metadata": {},
   "outputs": [
    {
     "name": "stdout",
     "output_type": "stream",
     "text": [
      "            pureAM     pureTM      AM        TM      Total\n",
      "occupation                                                \n",
      "Manager       41.0   854707.0   981.0   88820.0   944549.0\n",
      "Engineer      43.0   390240.0  2678.0   77975.0   470936.0\n",
      "Technician    15.0   155649.0   457.0   10791.0   166912.0\n",
      "Operator      34.0   814033.0   522.0   30598.0   845187.0\n",
      "Total        133.0  2214629.0  4638.0  208184.0  2427584.0\n",
      "            pureAM     pureTM      AM        TM      Total\n",
      "plant         17.0    74359.0   319.0     319.0    74695.0\n",
      "firm          16.0    18606.0   156.0     156.0    18778.0\n",
      "Manager       41.0   854707.0   981.0   88820.0   944549.0\n",
      "Engineer      43.0   390240.0  2678.0   77975.0   470936.0\n",
      "Technician    15.0   155649.0   457.0   10791.0   166912.0\n",
      "Operator      34.0   814033.0   522.0   30598.0   845187.0\n",
      "Total        133.0  2214629.0  4638.0  208184.0  2427584.0\n"
     ]
    }
   ],
   "source": [
    "df = B.copy()\n",
    "N_plant = df.groupby(['plant_5'])[['plant']].nunique().T\n",
    "N_plant.loc[:,'Total'] = N_plant.sum(axis=1)\n",
    "N_plant = N_plant[[1.0,2.0,0.0,0.0,'Total']]\n",
    "N_plant.columns = ['pureAM','pureTM','AM','TM','Total']\n",
    "N_firm = df.groupby(['plant_5'])[['firm']].nunique().T\n",
    "N_firm.loc[:,'Total'] = N_firm.sum(axis=1)\n",
    "N_firm = N_firm[[1.0,2.0,0.0,0.0,'Total']]\n",
    "N_firm.columns = ['pureAM','pureTM','AM','TM','Total']\n",
    "N_jobs = df.groupby(['occupation','plant_5','TECH']).nunique()[['BGTJobId']].reindex(['Manager','Engineer','Technician','Operator'], level='occupation').unstack(level=[1,2])\n",
    "N_jobs.columns = N_jobs.columns.droplevel(0)\n",
    "N_jobs = N_jobs[[1.0,2.0,0.0]]\n",
    "N_jobs.columns = N_jobs.columns.droplevel(0)\n",
    "N_jobs.columns = ['pureAM','pureTM','AM','TM']\n",
    "N_jobs.columns = ['pureAM','pureTM','AM','TM']\n",
    "N_jobs.loc[:,'Total']=N_jobs.sum(axis=1)\n",
    "N_jobs.loc['Total',:]=N_jobs.sum(axis=0)\n",
    "print(N_jobs)\n",
    "table = pandas.concat([N_plant,N_firm,N_jobs],axis=0)\n",
    "print(table)"
   ]
  },
  {
   "cell_type": "code",
   "execution_count": 24,
   "metadata": {},
   "outputs": [],
   "source": [
    "table.to_excel('Table1.xlsx',float_format='%.3f')"
   ]
  },
  {
   "cell_type": "code",
   "execution_count": null,
   "metadata": {},
   "outputs": [],
   "source": []
  }
 ],
 "metadata": {
  "kernelspec": {
   "display_name": "Python 3",
   "language": "python",
   "name": "python3"
  },
  "language_info": {
   "codemirror_mode": {
    "name": "ipython",
    "version": 3
   },
   "file_extension": ".py",
   "mimetype": "text/x-python",
   "name": "python",
   "nbconvert_exporter": "python",
   "pygments_lexer": "ipython3",
   "version": "3.8.5"
  }
 },
 "nbformat": 4,
 "nbformat_minor": 4
}
